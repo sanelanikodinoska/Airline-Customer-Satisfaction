{
  "cells": [
    {
      "cell_type": "markdown",
      "source": [
        "**Comparing results from runs in different experiments**\n"
      ],
      "metadata": {
        "nteract": {
          "transient": {
            "deleting": false
          }
        }
      }
    },
    {
      "cell_type": "code",
      "source": [],
      "outputs": [],
      "execution_count": null,
      "metadata": {
        "jupyter": {
          "source_hidden": false,
          "outputs_hidden": false
        },
        "nteract": {
          "transient": {
            "deleting": false
          }
        }
      }
    },
    {
      "cell_type": "code",
      "source": [
        "import mlflow"
      ],
      "outputs": [],
      "execution_count": 2,
      "metadata": {
        "jupyter": {
          "source_hidden": false,
          "outputs_hidden": false
        },
        "nteract": {
          "transient": {
            "deleting": false
          }
        },
        "gather": {
          "logged": 1719480338152
        }
      }
    },
    {
      "cell_type": "code",
      "source": [
        "experiments = mlflow.search_experiments()\n",
        "for exp in experiments:\n",
        "    print(exp.name)"
      ],
      "outputs": [
        {
          "output_type": "stream",
          "name": "stdout",
          "text": "airline-satisfaction\ndataset_profile\nairline-satisfaction-classifier\nprepare_image\n"
        }
      ],
      "execution_count": 3,
      "metadata": {
        "jupyter": {
          "source_hidden": false,
          "outputs_hidden": false
        },
        "nteract": {
          "transient": {
            "deleting": false
          }
        },
        "gather": {
          "logged": 1719480338491
        }
      }
    },
    {
      "cell_type": "code",
      "source": [
        "exp = mlflow.get_experiment_by_name('airline-satisfaction')\n",
        "print(exp)"
      ],
      "outputs": [
        {
          "output_type": "stream",
          "name": "stdout",
          "text": "<Experiment: artifact_location='', creation_time=1718816566964, experiment_id='a0ef60a8-5ebc-4e25-9ff2-0a79069b33cf', last_update_time=None, lifecycle_stage='active', name='airline-satisfaction', tags={}>\n"
        }
      ],
      "execution_count": 4,
      "metadata": {
        "jupyter": {
          "source_hidden": false,
          "outputs_hidden": false
        },
        "nteract": {
          "transient": {
            "deleting": false
          }
        },
        "gather": {
          "logged": 1719480338674
        }
      }
    },
    {
      "cell_type": "code",
      "source": [
        "exp = mlflow.get_experiment_by_name('airline-satisfaction-classifier')\n",
        "print(exp)"
      ],
      "outputs": [
        {
          "output_type": "stream",
          "name": "stdout",
          "text": "<Experiment: artifact_location='', creation_time=1718977872774, experiment_id='cdfe3118-8a03-4fd3-a106-43fde780c0be', last_update_time=None, lifecycle_stage='active', name='airline-satisfaction-classifier', tags={}>\n"
        }
      ],
      "execution_count": 5,
      "metadata": {
        "jupyter": {
          "source_hidden": false,
          "outputs_hidden": false
        },
        "nteract": {
          "transient": {
            "deleting": false
          }
        },
        "gather": {
          "logged": 1719480338921
        }
      }
    },
    {
      "cell_type": "code",
      "source": [
        "for exp_id in ['a0ef60a8-5ebc-4e25-9ff2-0a79069b33cf','cdfe3118-8a03-4fd3-a106-43fde780c0be']:\n",
        "    print(mlflow.search_runs(exp_id))\n"
      ],
      "outputs": [
        {
          "output_type": "stream",
          "name": "stdout",
          "text": "                                      run_id  \\\n0                automl-airline-satisfaction   \n1          automl-airline-satisfaction_setup   \n2      automl-airline-satisfaction_featurize   \n3   automl-airline-satisfaction_featurize_tr   \n4              automl-airline-satisfaction_0   \n5              automl-airline-satisfaction_1   \n6              automl-airline-satisfaction_2   \n7       automl-airline-satisfaction_worker_0   \n8            automl-airline-satisfaction_RAI   \n9       e0e7823a-aa99-4adb-a85a-e0259164e3da   \n10  automl-airline-satisfaction_ModelExplain   \n\n                           experiment_id    status artifact_uri  \\\n0   a0ef60a8-5ebc-4e25-9ff2-0a79069b33cf  FINISHED                \n1   a0ef60a8-5ebc-4e25-9ff2-0a79069b33cf  FINISHED                \n2   a0ef60a8-5ebc-4e25-9ff2-0a79069b33cf  FINISHED                \n3   a0ef60a8-5ebc-4e25-9ff2-0a79069b33cf  FINISHED                \n4   a0ef60a8-5ebc-4e25-9ff2-0a79069b33cf  FINISHED                \n5   a0ef60a8-5ebc-4e25-9ff2-0a79069b33cf    KILLED                \n6   a0ef60a8-5ebc-4e25-9ff2-0a79069b33cf    KILLED                \n7   a0ef60a8-5ebc-4e25-9ff2-0a79069b33cf    KILLED                \n8   a0ef60a8-5ebc-4e25-9ff2-0a79069b33cf    FAILED                \n9   a0ef60a8-5ebc-4e25-9ff2-0a79069b33cf  FINISHED                \n10  a0ef60a8-5ebc-4e25-9ff2-0a79069b33cf  FINISHED                \n\n                         start_time                         end_time  \\\n0  2024-06-19 17:03:01.481000+00:00 2024-06-19 17:17:49.272000+00:00   \n1  2024-06-19 17:06:48.187000+00:00 2024-06-19 17:10:12.816000+00:00   \n2  2024-06-19 17:10:13.516000+00:00 2024-06-19 17:12:53.784000+00:00   \n3  2024-06-19 17:10:36.087000+00:00 2024-06-19 17:12:53.473000+00:00   \n4  2024-06-19 17:13:28.795000+00:00 2024-06-19 17:14:00.180000+00:00   \n5  2024-06-19 17:14:00.912000+00:00 2024-06-19 17:14:01.438000+00:00   \n6  2024-06-19 17:14:00.971000+00:00 2024-06-19 17:14:00.971000+00:00   \n7  2024-06-19 17:13:19.098000+00:00 2024-06-19 17:14:07.001000+00:00   \n8  2024-06-19 17:28:04.486000+00:00 2024-06-19 19:09:18.114000+00:00   \n9  2024-06-19 17:23:28.886000+00:00 2024-06-19 17:26:43.962000+00:00   \n10 2024-06-19 17:26:58.227000+00:00 2024-06-19 17:27:51.109000+00:00   \n\n    metrics.AUC_micro  metrics.accuracy  metrics.f1_score_weighted  \\\n0            0.992961          0.953661                   0.953693   \n1                 NaN               NaN                        NaN   \n2                 NaN               NaN                        NaN   \n3                 NaN               NaN                        NaN   \n4            0.992961          0.953661                   0.953693   \n5                 NaN               NaN                        NaN   \n6                 NaN               NaN                        NaN   \n7                 NaN               NaN                        NaN   \n8                 NaN               NaN                        NaN   \n9            0.993632          0.955087                   0.955114   \n10                NaN               NaN                        NaN   \n\n    metrics.average_precision_score_micro  ...  tags.iteration_000  \\\n0                                0.993166  ...               0;2;1   \n1                                     NaN  ...                None   \n2                                     NaN  ...                None   \n3                                     NaN  ...                None   \n4                                0.993166  ...                None   \n5                                     NaN  ...                None   \n6                                     NaN  ...                None   \n7                                     NaN  ...                None   \n8                                     NaN  ...                None   \n9                                0.993818  ...                None   \n10                                    NaN  ...                None   \n\n     tags.run_preprocessor_000    tags.mlflow.user  \\\n0   MaxAbsScaler;;MaxAbsScaler  Sanela Nikodinoska   \n1                         None  Sanela Nikodinoska   \n2                         None  Sanela Nikodinoska   \n3                         None  Sanela Nikodinoska   \n4                         None  Sanela Nikodinoska   \n5                         None  Sanela Nikodinoska   \n6                         None  Sanela Nikodinoska   \n7                         None  Sanela Nikodinoska   \n8                         None  Sanela Nikodinoska   \n9                         None  Sanela Nikodinoska   \n10                        None  Sanela Nikodinoska   \n\n    tags.model_explain_best_run_child_id             tags.score_000  \\\n0          automl-airline-satisfaction_0  0.908018515435289;NaN;NaN   \n1                                   None                       None   \n2                                   None                       None   \n3                                   None                       None   \n4                                   None                       None   \n5                                   None                       None   \n6                                   None                       None   \n7                                   None                       None   \n8                                   None                       None   \n9                                   None                       None   \n10                                  None                       None   \n\n    tags.mlflow.source.type                   tags.mlflow.source.name  \\\n0                      None                                      None   \n1                       JOB      setup_automl-airline-satisfaction.py   \n2                      None                                      None   \n3                       JOB  featurize_automl-airline-satisfaction.py   \n4                      None                                      None   \n5                      None                                      None   \n6                      None                                      None   \n7                       JOB                       batch_training_0.py   \n8                       JOB                     model_rai_generate.py   \n9                       JOB                             model_test.py   \n10                      JOB                          model_explain.py   \n\n                  tags.mlflow.parentRunId  tags.model_explanation  \\\n0                                    None                    None   \n1             automl-airline-satisfaction                    None   \n2             automl-airline-satisfaction                    None   \n3   automl-airline-satisfaction_featurize                    None   \n4             automl-airline-satisfaction                    True   \n5             automl-airline-satisfaction                    None   \n6             automl-airline-satisfaction                    None   \n7             automl-airline-satisfaction                    None   \n8           automl-airline-satisfaction_0                    None   \n9           automl-airline-satisfaction_0                    None   \n10          automl-airline-satisfaction_0                    None   \n\n                   tags.model_explain_run_id  \n0                                       None  \n1                                       None  \n2                                       None  \n3                                       None  \n4   automl-airline-satisfaction_ModelExplain  \n5                                       None  \n6                                       None  \n7                                       None  \n8                                       None  \n9                                       None  \n10                                      None  \n\n[11 rows x 51 columns]\n                                  run_id  \\\n0   3ebd7c61-b961-4e85-8959-3df07d83eee7   \n1   92f8aa9c-ca8b-4c04-b44d-9b46d2801fe0   \n2   2df84a76-0f45-4169-8375-3d77645cb2af   \n3   ea7e54e8-b3b4-4ac2-9af9-965a060513ce   \n4   2b066df4-f78a-46f7-8441-7799e72940ff   \n..                                   ...   \n57  7126b2f4-07cf-43d4-8534-92a3bc95d0fa   \n58  2dbcca8c-4c16-46e1-9a03-cc3000fd05d3   \n59  e1257754-755e-4207-8dbe-1497c1593545   \n60  b4165adb-f8f5-4829-9334-edb7b9a1fb07   \n61  799875ca-7918-4f05-ba69-19660cb45fb4   \n\n                           experiment_id    status artifact_uri  \\\n0   cdfe3118-8a03-4fd3-a106-43fde780c0be  FINISHED                \n1   cdfe3118-8a03-4fd3-a106-43fde780c0be  FINISHED                \n2   cdfe3118-8a03-4fd3-a106-43fde780c0be  FINISHED                \n3   cdfe3118-8a03-4fd3-a106-43fde780c0be  FINISHED                \n4   cdfe3118-8a03-4fd3-a106-43fde780c0be  FINISHED                \n..                                   ...       ...          ...   \n57  cdfe3118-8a03-4fd3-a106-43fde780c0be  FINISHED                \n58  cdfe3118-8a03-4fd3-a106-43fde780c0be  FINISHED                \n59  cdfe3118-8a03-4fd3-a106-43fde780c0be  FINISHED                \n60  cdfe3118-8a03-4fd3-a106-43fde780c0be  FINISHED                \n61  cdfe3118-8a03-4fd3-a106-43fde780c0be  FINISHED                \n\n                         start_time                         end_time  \\\n0  2024-06-22 14:50:09.736000+00:00 2024-06-22 14:55:10.979000+00:00   \n1  2024-06-22 14:50:10.733000+00:00 2024-06-22 14:50:10.733000+00:00   \n2  2024-06-22 14:50:12.389000+00:00 2024-06-22 14:50:12.389000+00:00   \n3  2024-06-22 14:50:13.791000+00:00 2024-06-22 14:50:13.791000+00:00   \n4  2024-06-22 14:50:15.056000+00:00 2024-06-22 14:50:15.056000+00:00   \n..                              ...                              ...   \n57 2024-06-26 17:45:14.734000+00:00 2024-06-26 17:47:31.316000+00:00   \n58 2024-06-26 17:48:00.801000+00:00 2024-06-26 17:48:21.700000+00:00   \n59 2024-06-26 17:48:44.487000+00:00 2024-06-26 17:49:30.174000+00:00   \n60 2024-06-26 17:49:55.938000+00:00 2024-06-26 17:50:18.361000+00:00   \n61 2024-06-26 17:50:42.415000+00:00 2024-06-26 17:51:45.354000+00:00   \n\n    metrics.Recall (left port)  metrics.Accuracy (left port)  \\\n0                          NaN                           NaN   \n1                          NaN                           NaN   \n2                          NaN                           NaN   \n3                          NaN                           NaN   \n4                          NaN                           NaN   \n..                         ...                           ...   \n57                         NaN                           NaN   \n58                         NaN                           NaN   \n59                         NaN                           NaN   \n60                         NaN                           NaN   \n61                         NaN                           NaN   \n\n    metrics.Recall (right port)  metrics.AUC (left port)  ...  metrics.AUC  \\\n0                           NaN                      NaN  ...          NaN   \n1                           NaN                      NaN  ...          NaN   \n2                           NaN                      NaN  ...          NaN   \n3                           NaN                      NaN  ...          NaN   \n4                           NaN                      NaN  ...          NaN   \n..                          ...                      ...  ...          ...   \n57                          NaN                      NaN  ...          NaN   \n58                          NaN                      NaN  ...          NaN   \n59                          NaN                      NaN  ...          NaN   \n60                          NaN                      NaN  ...          NaN   \n61                          NaN                      NaN  ...      0.95844   \n\n    metrics.Recall                 tags.mlflow.rootRunId  \\\n0              NaN  3ebd7c61-b961-4e85-8959-3df07d83eee7   \n1              NaN  3ebd7c61-b961-4e85-8959-3df07d83eee7   \n2              NaN  3ebd7c61-b961-4e85-8959-3df07d83eee7   \n3              NaN  3ebd7c61-b961-4e85-8959-3df07d83eee7   \n4              NaN  3ebd7c61-b961-4e85-8959-3df07d83eee7   \n..             ...                                   ...   \n57             NaN  10a3dfa7-299d-4f88-bf47-9d714ccf77a8   \n58             NaN  10a3dfa7-299d-4f88-bf47-9d714ccf77a8   \n59             NaN  10a3dfa7-299d-4f88-bf47-9d714ccf77a8   \n60             NaN  10a3dfa7-299d-4f88-bf47-9d714ccf77a8   \n61         0.84851  10a3dfa7-299d-4f88-bf47-9d714ccf77a8   \n\n               tags.mlflow.runName    tags.mlflow.user  \\\n0   feature-selection-airline-data  Sanela Nikodinoska   \n1                    edit_metadata  Sanela Nikodinoska   \n2                  edit_metadata_1  Sanela Nikodinoska   \n3      convert_to_indicator_values  Sanela Nikodinoska   \n4               clean_missing_data  Sanela Nikodinoska   \n..                             ...                 ...   \n57            apply_transformation  Sanela Nikodinoska   \n58          apply_transformation_1  Sanela Nikodinoska   \n59  filter_based_feature_selection  Sanela Nikodinoska   \n60                     score_model  Sanela Nikodinoska   \n61                  evaluate_model  Sanela Nikodinoska   \n\n                             tags.mlflow.note.content  \\\n0   Course project on Airline data - customer sati...   \n1                                                None   \n2                                                None   \n3                                                None   \n4                                                None   \n..                                                ...   \n57                                               None   \n58                                               None   \n59                                               None   \n60                                               None   \n61                                               None   \n\n                   tags.azureml.pipeline  \\\n0                                   None   \n1   3ebd7c61-b961-4e85-8959-3df07d83eee7   \n2   3ebd7c61-b961-4e85-8959-3df07d83eee7   \n3   3ebd7c61-b961-4e85-8959-3df07d83eee7   \n4   3ebd7c61-b961-4e85-8959-3df07d83eee7   \n..                                   ...   \n57  10a3dfa7-299d-4f88-bf47-9d714ccf77a8   \n58  10a3dfa7-299d-4f88-bf47-9d714ccf77a8   \n59  10a3dfa7-299d-4f88-bf47-9d714ccf77a8   \n60  10a3dfa7-299d-4f88-bf47-9d714ccf77a8   \n61  10a3dfa7-299d-4f88-bf47-9d714ccf77a8   \n\n                 tags.mlflow.parentRunId  tags.azureml.nodeid  \\\n0                                   None                 None   \n1   3ebd7c61-b961-4e85-8959-3df07d83eee7             dc9be21f   \n2   3ebd7c61-b961-4e85-8959-3df07d83eee7             b57dfbc1   \n3   3ebd7c61-b961-4e85-8959-3df07d83eee7             073acb42   \n4   3ebd7c61-b961-4e85-8959-3df07d83eee7             dd5889ca   \n..                                   ...                  ...   \n57  10a3dfa7-299d-4f88-bf47-9d714ccf77a8             fe90d005   \n58  10a3dfa7-299d-4f88-bf47-9d714ccf77a8             70ca7c47   \n59  10a3dfa7-299d-4f88-bf47-9d714ccf77a8             611f484e   \n60  10a3dfa7-299d-4f88-bf47-9d714ccf77a8             fcf994d3   \n61  10a3dfa7-299d-4f88-bf47-9d714ccf77a8             dde45434   \n\n    tags.model_explanation  \n0                     None  \n1                     None  \n2                     None  \n3                     None  \n4                     None  \n..                     ...  \n57                    None  \n58                    None  \n59                    None  \n60                    None  \n61                    None  \n\n[62 rows x 29 columns]\n"
        }
      ],
      "execution_count": 6,
      "metadata": {
        "jupyter": {
          "source_hidden": false,
          "outputs_hidden": false
        },
        "nteract": {
          "transient": {
            "deleting": false
          }
        },
        "gather": {
          "logged": 1719480339135
        }
      }
    },
    {
      "cell_type": "code",
      "source": [
        "runs = mlflow.search_runs(['a0ef60a8-5ebc-4e25-9ff2-0a79069b33cf', 'cdfe3118-8a03-4fd3-a106-43fde780c0be'], filter_string=\"metrics.accuracy > 0.95\").sort_values(\"metrics.accuracy\", ascending=False)\n",
        "finished_runs = runs[runs.status == \"FINISHED\"]\n",
        "print(finished_runs)"
      ],
      "outputs": [
        {
          "output_type": "stream",
          "name": "stdout",
          "text": "                                 run_id                         experiment_id  \\\n4              automl-best-classifier_1  cdfe3118-8a03-4fd3-a106-43fde780c0be   \n6             automl-best-classifier_14  cdfe3118-8a03-4fd3-a106-43fde780c0be   \n2  e0e7823a-aa99-4adb-a85a-e0259164e3da  a0ef60a8-5ebc-4e25-9ff2-0a79069b33cf   \n3              automl-best-classifier_0  cdfe3118-8a03-4fd3-a106-43fde780c0be   \n0           automl-airline-satisfaction  a0ef60a8-5ebc-4e25-9ff2-0a79069b33cf   \n1         automl-airline-satisfaction_0  a0ef60a8-5ebc-4e25-9ff2-0a79069b33cf   \n5              automl-best-classifier_8  cdfe3118-8a03-4fd3-a106-43fde780c0be   \n\n     status artifact_uri                       start_time  \\\n4  FINISHED              2024-06-27 09:41:37.114000+00:00   \n6  FINISHED              2024-06-27 09:47:54.864000+00:00   \n2  FINISHED              2024-06-19 17:23:28.886000+00:00   \n3  FINISHED              2024-06-27 09:41:10.229000+00:00   \n0  FINISHED              2024-06-19 17:03:01.481000+00:00   \n1  FINISHED              2024-06-19 17:13:28.795000+00:00   \n5  FINISHED              2024-06-27 09:44:57.807000+00:00   \n\n                          end_time  metrics.AUC_micro  metrics.accuracy  \\\n4 2024-06-27 09:42:09.221000+00:00           0.994457          0.958500   \n6 2024-06-27 09:49:25.478000+00:00           0.992789          0.955112   \n2 2024-06-19 17:26:43.962000+00:00           0.993632          0.955087   \n3 2024-06-27 09:41:36.424000+00:00           0.993587          0.954419   \n0 2024-06-19 17:17:49.272000+00:00           0.992961          0.953661   \n1 2024-06-19 17:14:00.180000+00:00           0.992961          0.953661   \n5 2024-06-27 09:45:27.140000+00:00           0.990935          0.950031   \n\n   metrics.f1_score_weighted  metrics.average_precision_score_micro  ...  \\\n4                   0.958532                               0.994619  ...   \n6                   0.955152                               0.992729  ...   \n2                   0.955114                               0.993818  ...   \n3                   0.954460                               0.993777  ...   \n0                   0.953693                               0.993166  ...   \n1                   0.953693                               0.993166  ...   \n5                   0.950080                               0.991200  ...   \n\n   tags.iteration_000   tags.run_preprocessor_000    tags.mlflow.user  \\\n4                None                        None  Sanela Nikodinoska   \n6                None                        None  Sanela Nikodinoska   \n2                None                        None  Sanela Nikodinoska   \n3                None                        None  Sanela Nikodinoska   \n0               0;2;1  MaxAbsScaler;;MaxAbsScaler  Sanela Nikodinoska   \n1                None                        None  Sanela Nikodinoska   \n5                None                        None  Sanela Nikodinoska   \n\n   tags.model_explain_best_run_child_id             tags.score_000  \\\n4                                  None                       None   \n6                                  None                       None   \n2                                  None                       None   \n3                                  None                       None   \n0         automl-airline-satisfaction_0  0.908018515435289;NaN;NaN   \n1                                  None                       None   \n5                                  None                       None   \n\n   tags.model_explanation        tags.mlflow.parentRunId  \\\n4                    None         automl-best-classifier   \n6                    None         automl-best-classifier   \n2                    None  automl-airline-satisfaction_0   \n3                    None         automl-best-classifier   \n0                    None                           None   \n1                    True    automl-airline-satisfaction   \n5                    None         automl-best-classifier   \n\n                  tags.model_explain_run_id  tags.mlflow.source.type  \\\n4                                      None                     None   \n6                                      None                     None   \n2                                      None                      JOB   \n3                                      None                     None   \n0                                      None                     None   \n1  automl-airline-satisfaction_ModelExplain                     None   \n5                                      None                     None   \n\n   tags.mlflow.source.name  \n4                     None  \n6                     None  \n2            model_test.py  \n3                     None  \n0                     None  \n1                     None  \n5                     None  \n\n[7 rows x 51 columns]\n"
        }
      ],
      "execution_count": 25,
      "metadata": {
        "jupyter": {
          "source_hidden": false,
          "outputs_hidden": false
        },
        "nteract": {
          "transient": {
            "deleting": false
          }
        },
        "gather": {
          "logged": 1719482877802
        }
      }
    }
  ],
  "metadata": {
    "kernelspec": {
      "name": "python310-sdkv2",
      "language": "python",
      "display_name": "Python 3.10 - SDK v2"
    },
    "language_info": {
      "name": "python",
      "version": "3.10.14",
      "mimetype": "text/x-python",
      "codemirror_mode": {
        "name": "ipython",
        "version": 3
      },
      "pygments_lexer": "ipython3",
      "nbconvert_exporter": "python",
      "file_extension": ".py"
    },
    "nteract": {
      "version": "nteract-front-end@1.0.0"
    },
    "microsoft": {
      "ms_spell_check": {
        "ms_spell_check_language": "en"
      },
      "host": {
        "AzureML": {
          "notebookHasBeenCompleted": true
        }
      }
    },
    "kernel_info": {
      "name": "python310-sdkv2"
    }
  },
  "nbformat": 4,
  "nbformat_minor": 2
}