{
  "cells": [
    {
      "cell_type": "markdown",
      "metadata": {
        "nteract": {
          "transient": {
            "deleting": false
          }
        }
      },
      "source": [
        "# Install azure-ai-ml"
      ]
    },
    {
      "cell_type": "code",
      "execution_count": 1,
      "metadata": {
        "gather": {
          "logged": 1719860629825
        }
      },
      "outputs": [
        {
          "name": "stdout",
          "output_type": "stream",
          "text": [
            "Name: azure-ai-ml\r\n",
            "Version: 1.17.0\r\n",
            "Summary: Microsoft Azure Machine Learning Client Library for Python\r\n",
            "Home-page: https://github.com/Azure/azure-sdk-for-python\r\n",
            "Author: Microsoft Corporation\r\n",
            "Author-email: azuresdkengsysadmins@microsoft.com\r\n",
            "License: MIT License\r\n",
            "Location: /anaconda/envs/azureml_py38/lib/python3.9/site-packages\r\n",
            "Requires: azure-common, azure-core, azure-mgmt-core, azure-storage-blob, azure-storage-file-datalake, azure-storage-file-share, colorama, isodate, jsonschema, marshmallow, msrest, opencensus-ext-azure, opencensus-ext-logging, pydash, pyjwt, pyyaml, strictyaml, tqdm, typing-extensions\r\n",
            "Required-by: \r\n",
            "Note: you may need to restart the kernel to use updated packages.\n"
          ]
        }
      ],
      "source": [
        "pip show azure-ai-ml\n"
      ]
    },
    {
      "cell_type": "markdown",
      "metadata": {
        "nteract": {
          "transient": {
            "deleting": false
          }
        }
      },
      "source": [
        "Create ML handler to interact with ws"
      ]
    },
    {
      "cell_type": "code",
      "execution_count": 2,
      "metadata": {
        "gather": {
          "logged": 1719860635290
        },
        "jupyter": {
          "outputs_hidden": false,
          "source_hidden": false
        },
        "nteract": {
          "transient": {
            "deleting": false
          }
        }
      },
      "outputs": [],
      "source": [
        "from azure.ai.ml import MLClient\n",
        "from azure.identity import DefaultAzureCredential\n",
        "\n",
        "# authenticate\n",
        "credential = DefaultAzureCredential()\n",
        "\n",
        "SUBSCRIPTION=\"your-subscription\"\n",
        "RESOURCE_GROUP=\"your-resource-group-name\"\n",
        "WS_NAME=\"your-workspace-name\"\n",
        "# Get a handle to the workspace\n",
        "ml_client = MLClient(\n",
        "    credential=credential,\n",
        "    subscription_id=SUBSCRIPTION,\n",
        "    resource_group_name=RESOURCE_GROUP,\n",
        "    workspace_name=WS_NAME,\n",
        ")"
      ]
    },
    {
      "cell_type": "code",
      "execution_count": 3,
      "metadata": {
        "gather": {
          "logged": 1719860635477
        },
        "jupyter": {
          "outputs_hidden": false,
          "source_hidden": false
        },
        "nteract": {
          "transient": {
            "deleting": false
          }
        }
      },
      "outputs": [
        {
          "name": "stdout",
          "output_type": "stream",
          "text": [
            "westeurope : DP100-course\n"
          ]
        }
      ],
      "source": [
        "# Verify   \n",
        "\n",
        "ws = ml_client.workspaces.get(WS_NAME)\n",
        "print(ws.location,\":\", ws.resource_group)"
      ]
    },
    {
      "cell_type": "code",
      "execution_count": 4,
      "metadata": {
        "gather": {
          "logged": 1719860635652
        },
        "jupyter": {
          "outputs_hidden": false,
          "source_hidden": false
        },
        "nteract": {
          "transient": {
            "deleting": false
          }
        }
      },
      "outputs": [
        {
          "name": "stdout",
          "output_type": "stream",
          "text": [
            "Data asset URI: azureml://subscriptions/4088dff7-3800-4da9-abf9-00ca052f929a/resourcegroups/dp100-course/workspaces/dp100-courseproject/datastores/blob_training_data/paths/UI/2024-06-27_155152_UTC/prep_data.csv\n"
          ]
        }
      ],
      "source": [
        "# get a handle of the data asset and print the URI\n",
        "airline_prepped_data = ml_client.data.get(\"airline-prep-data\", version=\"2\")\n",
        "print(f\"Data asset URI: {airline_prepped_data.path}\")"
      ]
    },
    {
      "cell_type": "code",
      "execution_count": 5,
      "metadata": {
        "gather": {
          "logged": 1719860636058
        },
        "jupyter": {
          "outputs_hidden": false,
          "source_hidden": false
        },
        "nteract": {
          "transient": {
            "deleting": false
          }
        }
      },
      "outputs": [
        {
          "data": {
            "text/plain": [
              "Data({'path': 'azureml://subscriptions/4088dff7-3800-4da9-abf9-00ca052f929a/resourcegroups/dp100-course/workspaces/dp100-courseproject/datastores/blob_training_data/paths/UI/2024-06-27_155152_UTC/prep_data.csv', 'skip_validation': False, 'mltable_schema_url': None, 'referenced_uris': None, 'type': 'uri_file', 'is_anonymous': False, 'auto_increment_version': False, 'auto_delete_setting': None, 'name': 'airline_prep_data', 'description': 'Data asset created for pipeline', 'tags': {}, 'properties': {}, 'print_as_yaml': False, 'id': '/subscriptions/4088dff7-3800-4da9-abf9-00ca052f929a/resourceGroups/dp100-course/providers/Microsoft.MachineLearningServices/workspaces/dp100-courseproject/data/airline_prep_data/versions/2', 'Resource__source_path': '', 'base_path': '/mnt/batch/tasks/shared/LS_root/mounts/clusters/notebooks-compute/code/Users/sanelatasnik', 'creation_context': <azure.ai.ml.entities._system_data.SystemData object at 0x7faffd33ae50>, 'serialize': <msrest.serialization.Serializer object at 0x7faffd33afd0>, 'version': '2', 'latest_version': None, 'datastore': None})"
            ]
          },
          "execution_count": 5,
          "metadata": {},
          "output_type": "execute_result"
        }
      ],
      "source": [
        "from azure.ai.ml.entities import Data\n",
        "from azure.ai.ml.constants import AssetTypes\n",
        "\n",
        "my_path = 'azureml://subscriptions/4088dff7-3800-4da9-abf9-00ca052f929a/resourcegroups/dp100-course/workspaces/dp100-courseproject/datastores/blob_training_data/paths/UI/2024-06-27_155152_UTC/prep_data.csv'\n",
        "my_data = Data(\n",
        "    path=my_path,\n",
        "    type=AssetTypes.URI_FILE,\n",
        "    description=\"Data asset created for pipeline\",\n",
        "    name=\"airline_prep_data\",\n",
        "    version=\"2\"\n",
        ")\n",
        "\n",
        "ml_client.data.create_or_update(my_data)"
      ]
    },
    {
      "cell_type": "code",
      "execution_count": 7,
      "metadata": {
        "gather": {
          "logged": 1719860636390
        },
        "jupyter": {
          "outputs_hidden": false,
          "source_hidden": false
        },
        "nteract": {
          "transient": {
            "deleting": false
          }
        }
      },
      "outputs": [],
      "source": [
        "import os\n",
        "\n",
        "train_src_dir = \"./train-src\"\n",
        "os.makedirs(train_src_dir, exist_ok=True)\n",
        "predict_src_dir = \"./predict-src\"\n",
        "os.makedirs(predict_src_dir, exist_ok=True)"
      ]
    },
    {
      "cell_type": "code",
      "execution_count": 8,
      "metadata": {
        "gather": {
          "logged": 1719860636774
        },
        "jupyter": {
          "outputs_hidden": false,
          "source_hidden": false
        },
        "nteract": {
          "transient": {
            "deleting": false
          }
        }
      },
      "outputs": [],
      "source": [
        "\n",
        "from azure.ai.ml import MLClient, Input\n",
        "from azure.ai.ml.dsl import pipeline\n",
        "from azure.ai.ml import load_component\n",
        "from azure.ai.ml.sweep import Choice\n",
        "from azure.ai.ml.sweep import TruncationSelectionPolicy\n",
        "\n",
        "train_component_func = load_component(source=\"./train.yml\")\n",
        "score_component_func = load_component(source=\"./predict.yml\")\n",
        "\n",
        "# define a pipeline\n",
        "@pipeline()\n",
        "def pipeline_with_hyperparameter_sweep():\n",
        "\n",
        "    \"\"\"Tune hyperparameters\"\"\"\n",
        "    train_model = train_component_func(\n",
        "        data=Input(\n",
        "            type=\"uri_file\",\n",
        "            path='azureml://subscriptions/4088dff7-3800-4da9-abf9-00ca052f929a/resourcegroups/dp100-course/workspaces/dp100-courseproject/datastores/blob_training_data/paths/UI/2024-06-27_155152_UTC/prep_data.csv',\n",
        "        ),\n",
        "        n_estimators=Choice(values=[10, 50, 100]),\n",
        "        max_depth = Choice(values=[1,5,10])\n",
        "        )\n",
        "    sweep_step = train_model.sweep(\n",
        "        primary_metric=\"training_accuracy_score\",\n",
        "        goal=\"maximize\",\n",
        "        sampling_algorithm=\"random\",\n",
        "        compute=\"serverless\",\n",
        "    )\n",
        "    sweep_step.set_limits(max_total_trials=2, max_concurrent_trials=1, timeout=1800)\n",
        "    \n",
        "    sweep_step.early_termination = TruncationSelectionPolicy(\n",
        "    evaluation_interval=1, \n",
        "    truncation_percentage=20, \n",
        "    delay_evaluation=3 \n",
        ")\n",
        "\n",
        "    score_data = score_component_func(\n",
        "        model=sweep_step.outputs.model_output, test_data=sweep_step.outputs.test_data\n",
        "    )\n",
        "\n",
        "pipeline_job = pipeline_with_hyperparameter_sweep()\n",
        "\n",
        "# set pipeline compute\n",
        "pipeline_job.settings.default_compute = \"serverless\""
      ]
    },
    {
      "cell_type": "code",
      "execution_count": 9,
      "metadata": {
        "gather": {
          "logged": 1719860642519
        },
        "jupyter": {
          "outputs_hidden": false,
          "source_hidden": false
        },
        "nteract": {
          "transient": {
            "deleting": false
          }
        }
      },
      "outputs": [
        {
          "name": "stderr",
          "output_type": "stream",
          "text": [
            "Class AutoDeleteSettingSchema: This is an experimental class, and may change at any time. Please see https://aka.ms/azuremlexperimental for more information.\n",
            "Class AutoDeleteConditionSchema: This is an experimental class, and may change at any time. Please see https://aka.ms/azuremlexperimental for more information.\n",
            "Class BaseAutoDeleteSettingSchema: This is an experimental class, and may change at any time. Please see https://aka.ms/azuremlexperimental for more information.\n",
            "Class IntellectualPropertySchema: This is an experimental class, and may change at any time. Please see https://aka.ms/azuremlexperimental for more information.\n",
            "Class ProtectionLevelSchema: This is an experimental class, and may change at any time. Please see https://aka.ms/azuremlexperimental for more information.\n",
            "Class BaseIntellectualPropertySchema: This is an experimental class, and may change at any time. Please see https://aka.ms/azuremlexperimental for more information.\n"
          ]
        },
        {
          "data": {
            "text/html": [
              "<table style=\"width:100%\"><tr><th>Experiment</th><th>Name</th><th>Type</th><th>Status</th><th>Details Page</th></tr><tr><td>pipeline_samples-sweep</td><td>stoic_yak_8xg7vj7srp</td><td>pipeline</td><td>NotStarted</td><td><a href=\"https://ml.azure.com/runs/stoic_yak_8xg7vj7srp?wsid=/subscriptions/4088dff7-3800-4da9-abf9-00ca052f929a/resourcegroups/dp100-course/workspaces/dp100-courseproject&amp;tid=d4d83223-91b5-4274-b8db-01c7ba2cf02a\" target=\"_blank\" rel=\"noopener\">Link to Azure Machine Learning studio</a></td></tr></table>"
            ],
            "text/plain": [
              "PipelineJob({'inputs': {}, 'outputs': {}, 'jobs': {}, 'component': PipelineComponent({'latest_version': None, 'intellectual_property': None, 'auto_increment_version': False, 'source': 'REMOTE.WORKSPACE.JOB', 'is_anonymous': True, 'auto_delete_setting': None, 'name': 'azureml_anonymous', 'description': 'Tune hyperparameters', 'tags': {}, 'properties': {}, 'print_as_yaml': False, 'id': None, 'Resource__source_path': None, 'base_path': '/mnt/batch/tasks/shared/LS_root/mounts/clusters/notebooks-compute/code/Users/sanelatasnik', 'creation_context': None, 'serialize': <msrest.serialization.Serializer object at 0x7faffcd76ac0>, 'version': '1', 'schema': None, 'type': 'pipeline', 'display_name': 'pipeline_with_hyperparameter_sweep', 'is_deterministic': None, 'inputs': {}, 'outputs': {}, 'yaml_str': None, 'other_parameter': {}, 'jobs': {'sweep_step': Sweep({'job_inputs': {'data': {'type': 'uri_file', 'path': 'azureml://subscriptions/4088dff7-3800-4da9-abf9-00ca052f929a/resourcegroups/dp100-course/workspaces/dp100-courseproject/datastores/blob_training_data/paths/UI/2024-06-27_155152_UTC/prep_data.csv'}}, 'job_outputs': {}, 'init': False, 'name': 'sweep_step', 'type': 'sweep', 'status': None, 'log_files': None, 'description': None, 'tags': {}, 'properties': {}, 'print_as_yaml': False, 'id': None, 'Resource__source_path': '', 'base_path': '/mnt/batch/tasks/shared/LS_root/mounts/clusters/notebooks-compute/code/Users/sanelatasnik', 'creation_context': None, 'serialize': <msrest.serialization.Serializer object at 0x7faffcd767f0>, 'allowed_keys': {}, 'key_restriction': False, 'logger': <TraceLogger attr_dict (WARNING)>, 'display_name': None, 'experiment_name': None, 'compute': 'serverless', 'services': None, 'comment': None, 'inputs': {'data': <azure.ai.ml.entities._job.pipeline._io.base.NodeInput object at 0x7faffcd76c10>}, 'outputs': {}, 'component': 'azureml_anonymous:daf1a8ad-6f74-4a59-a962-b15d3ba1c9d4', 'referenced_control_flow_node_instance_id': None, 'kwargs': {}, 'instance_id': '7411f917-e088-4e7a-b4f4-52fcccb33861', 'source': 'YAML.COMPONENT', 'validate_required_input_not_provided': True, 'sampling_algorithm': 'random', 'early_termination': <azure.ai.ml.entities._job.sweep.early_termination_policy.TruncationSelectionPolicy object at 0x7faffcd76a00>, 'limits': <azure.ai.ml.entities._job.job_limits.SweepJobLimits object at 0x7faffcd76c40>, 'search_space': {'n_estimators': <azure.ai.ml.entities._job.sweep.search_space.Choice object at 0x7faffcd769d0>, 'max_depth': <azure.ai.ml.entities._job.sweep.search_space.Choice object at 0x7faffcd76a30>}, 'queue_settings': None, 'objective': <azure.ai.ml.entities._job.sweep.objective.Objective object at 0x7faffcd76880>, 'resources': None, 'identity': None}), 'score_data': Command({'parameters': {}, 'init': False, 'name': 'score_data', 'type': 'command', 'status': None, 'log_files': None, 'description': None, 'tags': {}, 'properties': {}, 'print_as_yaml': False, 'id': None, 'Resource__source_path': '', 'base_path': '/mnt/batch/tasks/shared/LS_root/mounts/clusters/notebooks-compute/code/Users/sanelatasnik', 'creation_context': None, 'serialize': <msrest.serialization.Serializer object at 0x7faffcd76a90>, 'allowed_keys': {}, 'key_restriction': False, 'logger': <TraceLogger attr_dict (WARNING)>, 'display_name': None, 'experiment_name': None, 'compute': None, 'services': None, 'comment': None, 'job_inputs': {'model': '${{parent.jobs.sweep_step.outputs.model_output}}', 'test_data': '${{parent.jobs.sweep_step.outputs.test_data}}'}, 'job_outputs': {}, 'inputs': {'model': <azure.ai.ml.entities._job.pipeline._io.base.NodeInput object at 0x7faffcd76ca0>, 'test_data': <azure.ai.ml.entities._job.pipeline._io.base.NodeInput object at 0x7faffcd76cd0>}, 'outputs': {}, 'component': 'azureml_anonymous:ff4e7288-8294-4af0-9c71-943e2370585e', 'referenced_control_flow_node_instance_id': None, 'kwargs': {'services': None}, 'instance_id': '57e05dff-43fd-4f91-a3c6-ec908aff46a7', 'source': 'YAML.COMPONENT', 'validate_required_input_not_provided': True, 'limits': None, 'identity': None, 'distribution': None, 'environment_variables': {}, 'environment': None, 'resources': None, 'queue_settings': None, 'swept': False})}, 'job_types': {'sweep': 1, 'command': 1}, 'job_sources': {'YAML.COMPONENT': 2}, 'source_job_id': None}), 'type': 'pipeline', 'status': 'NotStarted', 'log_files': None, 'name': 'stoic_yak_8xg7vj7srp', 'description': 'Tune hyperparameters', 'tags': {}, 'properties': {}, 'print_as_yaml': False, 'id': '/subscriptions/4088dff7-3800-4da9-abf9-00ca052f929a/resourceGroups/dp100-course/providers/Microsoft.MachineLearningServices/workspaces/dp100-courseproject/jobs/stoic_yak_8xg7vj7srp', 'Resource__source_path': '', 'base_path': '/mnt/batch/tasks/shared/LS_root/mounts/clusters/notebooks-compute/code/Users/sanelatasnik', 'creation_context': <azure.ai.ml.entities._system_data.SystemData object at 0x7faffcd76d60>, 'serialize': <msrest.serialization.Serializer object at 0x7faffcd76e20>, 'display_name': 'pipeline_with_hyperparameter_sweep', 'experiment_name': 'pipeline_samples-sweep', 'compute': None, 'services': {'Tracking': {'endpoint': 'azureml://westeurope.api.azureml.ms/mlflow/v1.0/subscriptions/4088dff7-3800-4da9-abf9-00ca052f929a/resourceGroups/dp100-course/providers/Microsoft.MachineLearningServices/workspaces/dp100-courseproject?', 'type': 'Tracking'}, 'Studio': {'endpoint': 'https://ml.azure.com/runs/stoic_yak_8xg7vj7srp?wsid=/subscriptions/4088dff7-3800-4da9-abf9-00ca052f929a/resourcegroups/dp100-course/workspaces/dp100-courseproject&tid=d4d83223-91b5-4274-b8db-01c7ba2cf02a', 'type': 'Studio'}}, 'settings': {}, 'identity': None, 'default_code': None, 'default_environment': None})"
            ]
          },
          "execution_count": 9,
          "metadata": {},
          "output_type": "execute_result"
        }
      ],
      "source": [
        "# submit job to workspace\n",
        "pipeline_job = ml_client.jobs.create_or_update(\n",
        "    pipeline_job, experiment_name=\"pipeline_samples-sweep\"\n",
        ")\n",
        "pipeline_job"
      ]
    },
    {
      "cell_type": "code",
      "execution_count": 10,
      "metadata": {
        "gather": {
          "logged": 1719860580246
        },
        "jupyter": {
          "outputs_hidden": false,
          "source_hidden": false
        },
        "nteract": {
          "transient": {
            "deleting": false
          }
        }
      },
      "outputs": [
        {
          "name": "stdout",
          "output_type": "stream",
          "text": [
            "RunId: stoic_yak_8xg7vj7srp\n",
            "Web View: https://ml.azure.com/runs/stoic_yak_8xg7vj7srp?wsid=/subscriptions/4088dff7-3800-4da9-abf9-00ca052f929a/resourcegroups/dp100-course/workspaces/dp100-courseproject\n",
            "\n",
            "Streaming logs/azureml/executionlogs.txt\n",
            "========================================\n",
            "\n",
            "[2024-07-01 19:04:07Z] Submitting 1 runs, first five are: 52383773:f40e2e4d-90cc-49c7-ac86-24e07526573e\n"
          ]
        }
      ],
      "source": [
        "# Wait until the job completes\n",
        "ml_client.jobs.stream(pipeline_job.name)"
      ]
    }
  ],
  "metadata": {
    "kernel_info": {
      "name": "python38-azureml"
    },
    "kernelspec": {
      "display_name": "Python 3.8 - AzureML",
      "language": "python",
      "name": "python38-azureml"
    },
    "language_info": {
      "codemirror_mode": {
        "name": "ipython",
        "version": 3
      },
      "file_extension": ".py",
      "mimetype": "text/x-python",
      "name": "python",
      "nbconvert_exporter": "python",
      "pygments_lexer": "ipython3",
      "version": "3.9.19"
    },
    "microsoft": {
      "host": {
        "AzureML": {
          "notebookHasBeenCompleted": true
        }
      },
      "ms_spell_check": {
        "ms_spell_check_language": "en"
      }
    },
    "nteract": {
      "version": "nteract-front-end@1.0.0"
    }
  },
  "nbformat": 4,
  "nbformat_minor": 2
}
